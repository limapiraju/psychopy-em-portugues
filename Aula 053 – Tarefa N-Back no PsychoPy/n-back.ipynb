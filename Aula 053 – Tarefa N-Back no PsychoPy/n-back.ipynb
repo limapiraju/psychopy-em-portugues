{
 "cells": [
  {
   "cell_type": "markdown",
   "id": "e229bf27",
   "metadata": {},
   "source": [
    "# Python para Psicólogos - Desafios\n",
    "\n",
    "![alt text](teste.jpg)"
   ]
  },
  {
   "cell_type": "markdown",
   "id": "63f3753e",
   "metadata": {},
   "source": [
    "# Tarefa *n*-back\n",
    "\n",
    "![alt text](nback.jpg)"
   ]
  },
  {
   "cell_type": "markdown",
   "id": "6a612f1e",
   "metadata": {},
   "source": [
    "# Importar bibliotecas"
   ]
  },
  {
   "cell_type": "code",
   "execution_count": null,
   "id": "675eb5e1",
   "metadata": {},
   "outputs": [],
   "source": [
    "# inserir código aqui"
   ]
  },
  {
   "cell_type": "code",
   "execution_count": 1,
   "id": "05401cfa",
   "metadata": {},
   "outputs": [],
   "source": [
    "import numpy as np\n",
    "import time\n",
    "import string"
   ]
  },
  {
   "cell_type": "markdown",
   "id": "bca526f3",
   "metadata": {},
   "source": [
    "# Definir função"
   ]
  },
  {
   "cell_type": "code",
   "execution_count": 6,
   "id": "680b376a",
   "metadata": {},
   "outputs": [],
   "source": [
    "def nback(n = 2,\n",
    "         N_total = 100,\n",
    "         proportion_target = 0.20,\n",
    "         stimuli = list(string.ascii_uppercase),\n",
    "         k = 8):\n",
    "    \"\"\"\n",
    "    - n = carga de memória de trabalho (default = 2);\n",
    "    - N_total = número de tentativas da tarefa;\n",
    "    - proportion_target = proporção de tentativas alvo;\n",
    "    - stimuli = estímulos usados na tarefa n-back;\n",
    "    - k = número de estímulos efetivamente usados na tarefa.\n",
    "    \"\"\"\n",
    "    np.random.shuffle(stimuli)\n",
    "    stimuli = stimuli[:k]\n",
    "    \n",
    "    # lista de tentativas alvos e não alvos\n",
    "    total_targets = int(N_total * proportion_target)\n",
    "    auxiliar = [1] * total_targets + [0] * ((N_total - n) - total_targets)\n",
    "    np.random.shuffle(auxiliar)\n",
    "    targets = [0] * n\n",
    "    targets.extend(auxiliar)\n",
    "    \n",
    "    stimulus_list = list()\n",
    "    \n",
    "    # cria a lista de estímulos n-back\n",
    "    for i, target in zip(range(N_total), targets):\n",
    "        \n",
    "        # checa se estímulo já foi selecionado\n",
    "        stimulus_selected = False\n",
    "        \n",
    "        # se a tentativa atual NÃO É alvo...\n",
    "        if not target:\n",
    "            # siga selecionando um item, até que o valor seja diferente do alvo\n",
    "            while not stimulus_selected:\n",
    "                current = np.random.choice(stimuli)\n",
    "                if (len(stimulus_list) < n) or (current not in stimulus_list[-n:]):      \n",
    "                    stimulus_selected = True\n",
    "                    \n",
    "        # e se a tentativa atual É o alvo...\n",
    "        else:\n",
    "            current = stimulus_list[-n]\n",
    "            \n",
    "        # adiciona à lista\n",
    "        stimulus_list.append(current)\n",
    "        \n",
    "    return targets, stimulus_list       "
   ]
  },
  {
   "cell_type": "markdown",
   "id": "778dd6e4",
   "metadata": {},
   "source": [
    "# Testar função"
   ]
  },
  {
   "cell_type": "code",
   "execution_count": 7,
   "id": "bc118360",
   "metadata": {},
   "outputs": [],
   "source": [
    "TARGETS, STIMULUS_LIST = nback()"
   ]
  },
  {
   "cell_type": "code",
   "execution_count": 12,
   "id": "94d77f1a",
   "metadata": {},
   "outputs": [
    {
     "data": {
      "text/plain": [
       "[0, 0, 0, 1, 1, 1, 0, 0, 0, 0, 1, 0, 1, 1, 0]"
      ]
     },
     "execution_count": 12,
     "metadata": {},
     "output_type": "execute_result"
    }
   ],
   "source": [
    "TARGETS[:15]"
   ]
  },
  {
   "cell_type": "code",
   "execution_count": 11,
   "id": "48023965",
   "metadata": {},
   "outputs": [
    {
     "data": {
      "text/plain": [
       "['P', 'U', 'Q', 'U', 'Q', 'U', 'H', 'G', 'P', 'F', 'P', 'Q', 'P', 'Q', 'H']"
      ]
     },
     "execution_count": 11,
     "metadata": {},
     "output_type": "execute_result"
    }
   ],
   "source": [
    "STIMULUS_LIST[:15]"
   ]
  },
  {
   "cell_type": "code",
   "execution_count": 54,
   "id": "ae75bc67",
   "metadata": {},
   "outputs": [
    {
     "data": {
      "text/plain": [
       "0.2"
      ]
     },
     "execution_count": 54,
     "metadata": {},
     "output_type": "execute_result"
    }
   ],
   "source": [
    "np.mean(np.array(TARGETS))"
   ]
  },
  {
   "cell_type": "code",
   "execution_count": 56,
   "id": "3aac50bb",
   "metadata": {},
   "outputs": [
    {
     "data": {
      "text/plain": [
       "[0, 0, 0, 0, 0, 0, 1, 0, 0, 1, 1, 1, 1, 0, 1, 1, 1, 0, 0, 0]"
      ]
     },
     "execution_count": 56,
     "metadata": {},
     "output_type": "execute_result"
    }
   ],
   "source": [
    "TARGETS2, STIMULUS_LIST2 = nback(n = 5,\n",
    "         N_total = 1000,\n",
    "         proportion_target = 0.45)\n",
    "\n",
    "TARGETS2[:20]"
   ]
  },
  {
   "cell_type": "code",
   "execution_count": 57,
   "id": "45f273e6",
   "metadata": {},
   "outputs": [
    {
     "data": {
      "text/plain": [
       "['C',\n",
       " 'K',\n",
       " 'Y',\n",
       " 'K',\n",
       " 'T',\n",
       " 'K',\n",
       " 'K',\n",
       " 'T',\n",
       " 'C',\n",
       " 'T',\n",
       " 'K',\n",
       " 'K',\n",
       " 'T',\n",
       " 'Y',\n",
       " 'T',\n",
       " 'K',\n",
       " 'K',\n",
       " 'E',\n",
       " 'B',\n",
       " 'E']"
      ]
     },
     "execution_count": 57,
     "metadata": {},
     "output_type": "execute_result"
    }
   ],
   "source": [
    "STIMULUS_LIST2[:20]"
   ]
  },
  {
   "cell_type": "code",
   "execution_count": null,
   "id": "f0eb1376",
   "metadata": {},
   "outputs": [],
   "source": []
  },
  {
   "cell_type": "code",
   "execution_count": null,
   "id": "26f60fae",
   "metadata": {},
   "outputs": [],
   "source": []
  },
  {
   "cell_type": "code",
   "execution_count": null,
   "id": "bebba143",
   "metadata": {},
   "outputs": [],
   "source": []
  },
  {
   "cell_type": "code",
   "execution_count": 1,
   "id": "13db40e0",
   "metadata": {},
   "outputs": [],
   "source": [
    "import os, glob, shutil, sys, random, string\n",
    "from os.path import exists\n",
    "import numpy as np\n",
    "\n",
    "#======================================\n",
    "# FUNÇÃO nback\n",
    "\n",
    "def nback(n = 2,\n",
    "          N_total = 100,\n",
    "          proportion_target = 0.30,\n",
    "          stimuli = list(string.ascii_uppercase),\n",
    "          k = 8):\n",
    "\n",
    "    np.random.shuffle(stimuli)\n",
    "    stimuli = stimuli[:k]\n",
    "\n",
    "    # lista de tentativas alvos e não alvos\n",
    "    total_targets = int(N_total * proportion_target)\n",
    "    aux = [1] * total_targets + [0] * ((N_total - n) - total_targets)\n",
    "    np.random.shuffle(aux)\n",
    "    # primeiras n tentativas, por definição, não podem ser alvo!\n",
    "    targets = [0] * n\n",
    "    targets.extend(aux)\n",
    "    \n",
    "    # lista de estímulos\n",
    "    stimulus_list = []\n",
    "    \n",
    "    # cria lista de estímulos n-back\n",
    "    for i, target in zip(range(N_total), targets):\n",
    "\n",
    "        # checa se estímulo já foi selecionado\n",
    "        stimulus_selected = False\n",
    "\n",
    "        # se essa tentativa NÃO é alvo\n",
    "        if not target:\n",
    "            # siga selecionando, até que valor for diferente de alvo\n",
    "            while not stimulus_selected:\n",
    "                current = np.random.choice(stimuli)\n",
    "                if len(stimulus_list) < n or current != stimulus_list[-n]: \n",
    "                    stimulus_selected = True\n",
    "        # se essa tentativa É alvo\n",
    "        else:\n",
    "            # selecione a opção n-back\n",
    "            current = stimulus_list[-n]\n",
    "        # e incremente a lista\n",
    "        stimulus_list.append(current)\n",
    "\n",
    "    # retorna status dos itens e lista de estímulos\n",
    "    return targets, stimulus_list"
   ]
  },
  {
   "cell_type": "code",
   "execution_count": 3,
   "id": "c712dcc9",
   "metadata": {},
   "outputs": [],
   "source": [
    "#nback()"
   ]
  },
  {
   "cell_type": "code",
   "execution_count": null,
   "id": "d1719a23",
   "metadata": {},
   "outputs": [],
   "source": []
  }
 ],
 "metadata": {
  "kernelspec": {
   "display_name": "Python 3 (ipykernel)",
   "language": "python",
   "name": "python3"
  },
  "language_info": {
   "codemirror_mode": {
    "name": "ipython",
    "version": 3
   },
   "file_extension": ".py",
   "mimetype": "text/x-python",
   "name": "python",
   "nbconvert_exporter": "python",
   "pygments_lexer": "ipython3",
   "version": "3.9.12"
  }
 },
 "nbformat": 4,
 "nbformat_minor": 5
}
