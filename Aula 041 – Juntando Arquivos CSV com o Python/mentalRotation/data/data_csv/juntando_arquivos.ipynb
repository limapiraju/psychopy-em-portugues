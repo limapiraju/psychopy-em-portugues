{
 "cells": [
  {
   "cell_type": "markdown",
   "id": "485729d0",
   "metadata": {},
   "source": [
    "**O script a seguir visa guiá-lo(a) para que você consiga juntar arquivos CSV em um único arquivo. Tecnicamente, o nome da ação de juntar vários arquivos em um só é denominada de *concatenação*.**"
   ]
  },
  {
   "cell_type": "code",
   "execution_count": 1,
   "id": "a6231fac",
   "metadata": {},
   "outputs": [],
   "source": [
    "import os\n",
    "import glob\n",
    "import numpy as np\n",
    "import pandas as pd\n",
    "import matplotlib.pyplot as plt"
   ]
  },
  {
   "cell_type": "code",
   "execution_count": 2,
   "id": "f0a071aa",
   "metadata": {},
   "outputs": [],
   "source": [
    "# definindo meu diretório de trabalho\n",
    "# mude o caminho a seguir para corresponder ao caminho da pasta que você pretende usar\n",
    "raw_data = \"C:/Users/limap/OneDrive/Área de Trabalho/Aula 041 – Juntando Arquivos CSV com o Python/mentalRotation/data/data_csv/\"\n",
    "os.chdir(raw_data)"
   ]
  },
  {
   "cell_type": "code",
   "execution_count": 3,
   "id": "17f49fe7",
   "metadata": {},
   "outputs": [
    {
     "data": {
      "text/plain": [
       "'C:\\\\Users\\\\limap\\\\OneDrive\\\\Área de Trabalho\\\\Aula 041 – Juntando Arquivos CSV com o Python\\\\mentalRotation\\\\data\\\\data_csv'"
      ]
     },
     "execution_count": 3,
     "metadata": {},
     "output_type": "execute_result"
    }
   ],
   "source": [
    "pwd"
   ]
  },
  {
   "cell_type": "code",
   "execution_count": 4,
   "id": "b855dff9",
   "metadata": {},
   "outputs": [
    {
     "data": {
      "text/plain": [
       "['ana_2022-12-31_00h59.07.521.csv',\n",
       " 'bia_2022-12-31_01h03.34.738.csv',\n",
       " 'cris_2022-12-31_01h19.46.257.csv',\n",
       " 'davi_2022-12-31_01h23.27.650.csv',\n",
       " 'edu_2022-12-31_01h27.05.156.csv',\n",
       " 'fabi_2022-12-31_01h35.07.697.csv',\n",
       " 'gabi_2022-12-31_01h40.20.488.csv',\n",
       " 'helô_2022-12-31_01h44.53.102.csv',\n",
       " 'iago_2022-12-31_01h49.39.183.csv',\n",
       " 'jack_2022-12-31_01h54.15.243.csv',\n",
       " 'kily_2022-12-31_09h19.34.502.csv',\n",
       " 'lela_2022-12-31_09h23.06.820.csv']"
      ]
     },
     "execution_count": 4,
     "metadata": {},
     "output_type": "execute_result"
    }
   ],
   "source": [
    "# criando lista de nomes dos arquivos\n",
    "file_extension = \".csv\"\n",
    "all_filenames = [i for i in glob.glob(f\"*{file_extension}\")] # armazena nome dos arquivos em uma lista\n",
    "all_filenames"
   ]
  },
  {
   "cell_type": "code",
   "execution_count": 5,
   "id": "364e1b07",
   "metadata": {},
   "outputs": [
    {
     "data": {
      "text/plain": [
       "(1944, 38)"
      ]
     },
     "execution_count": 5,
     "metadata": {},
     "output_type": "execute_result"
    }
   ],
   "source": [
    "# armazenando os dados de todos os arquivos em um único dataframe\n",
    "data = pd.concat([pd.read_csv(file, delimiter = \",\", encoding = \"UTF-8\")\n",
    "                 for file in all_filenames]) # \"latin-1\"\n",
    "\n",
    "data.shape # indica tamanho do dataframe com dados concatenados"
   ]
  },
  {
   "cell_type": "code",
   "execution_count": 6,
   "id": "3f8cc57f",
   "metadata": {},
   "outputs": [
    {
     "data": {
      "text/html": [
       "<div>\n",
       "<style scoped>\n",
       "    .dataframe tbody tr th:only-of-type {\n",
       "        vertical-align: middle;\n",
       "    }\n",
       "\n",
       "    .dataframe tbody tr th {\n",
       "        vertical-align: top;\n",
       "    }\n",
       "\n",
       "    .dataframe thead th {\n",
       "        text-align: right;\n",
       "    }\n",
       "</style>\n",
       "<table border=\"1\" class=\"dataframe\">\n",
       "  <thead>\n",
       "    <tr style=\"text-align: right;\">\n",
       "      <th></th>\n",
       "      <th>leftori</th>\n",
       "      <th>rightori</th>\n",
       "      <th>same</th>\n",
       "      <th>corrAns</th>\n",
       "      <th>angle</th>\n",
       "      <th>trials.thisRepN</th>\n",
       "      <th>trials.thisTrialN</th>\n",
       "      <th>trials.thisN</th>\n",
       "      <th>trials.thisIndex</th>\n",
       "      <th>instr_txt_1.started</th>\n",
       "      <th>...</th>\n",
       "      <th>mini_pause.stopped</th>\n",
       "      <th>end_txt.started</th>\n",
       "      <th>end_key.started</th>\n",
       "      <th>session</th>\n",
       "      <th>participant</th>\n",
       "      <th>date</th>\n",
       "      <th>expName</th>\n",
       "      <th>psychopyVersion</th>\n",
       "      <th>frameRate</th>\n",
       "      <th>Unnamed: 37</th>\n",
       "    </tr>\n",
       "  </thead>\n",
       "  <tbody>\n",
       "    <tr>\n",
       "      <th>0</th>\n",
       "      <td>NaN</td>\n",
       "      <td>NaN</td>\n",
       "      <td>NaN</td>\n",
       "      <td>NaN</td>\n",
       "      <td>NaN</td>\n",
       "      <td>NaN</td>\n",
       "      <td>NaN</td>\n",
       "      <td>NaN</td>\n",
       "      <td>NaN</td>\n",
       "      <td>19.407198</td>\n",
       "      <td>...</td>\n",
       "      <td>NaN</td>\n",
       "      <td>NaN</td>\n",
       "      <td>NaN</td>\n",
       "      <td>1.0</td>\n",
       "      <td>ana</td>\n",
       "      <td>2022-12-31_00h59.07.521</td>\n",
       "      <td>MentalRot</td>\n",
       "      <td>2022.2.1</td>\n",
       "      <td>60.051692</td>\n",
       "      <td>NaN</td>\n",
       "    </tr>\n",
       "    <tr>\n",
       "      <th>1</th>\n",
       "      <td>0.0</td>\n",
       "      <td>225.0</td>\n",
       "      <td>n</td>\n",
       "      <td>n</td>\n",
       "      <td>225.0</td>\n",
       "      <td>0.0</td>\n",
       "      <td>0.0</td>\n",
       "      <td>0.0</td>\n",
       "      <td>10.0</td>\n",
       "      <td>NaN</td>\n",
       "      <td>...</td>\n",
       "      <td>25.875416</td>\n",
       "      <td>NaN</td>\n",
       "      <td>NaN</td>\n",
       "      <td>1.0</td>\n",
       "      <td>ana</td>\n",
       "      <td>2022-12-31_00h59.07.521</td>\n",
       "      <td>MentalRot</td>\n",
       "      <td>2022.2.1</td>\n",
       "      <td>60.051692</td>\n",
       "      <td>NaN</td>\n",
       "    </tr>\n",
       "    <tr>\n",
       "      <th>2</th>\n",
       "      <td>0.0</td>\n",
       "      <td>225.0</td>\n",
       "      <td>y</td>\n",
       "      <td>m</td>\n",
       "      <td>225.0</td>\n",
       "      <td>0.0</td>\n",
       "      <td>1.0</td>\n",
       "      <td>1.0</td>\n",
       "      <td>11.0</td>\n",
       "      <td>NaN</td>\n",
       "      <td>...</td>\n",
       "      <td>27.127254</td>\n",
       "      <td>NaN</td>\n",
       "      <td>NaN</td>\n",
       "      <td>1.0</td>\n",
       "      <td>ana</td>\n",
       "      <td>2022-12-31_00h59.07.521</td>\n",
       "      <td>MentalRot</td>\n",
       "      <td>2022.2.1</td>\n",
       "      <td>60.051692</td>\n",
       "      <td>NaN</td>\n",
       "    </tr>\n",
       "    <tr>\n",
       "      <th>3</th>\n",
       "      <td>0.0</td>\n",
       "      <td>0.0</td>\n",
       "      <td>n</td>\n",
       "      <td>n</td>\n",
       "      <td>0.0</td>\n",
       "      <td>0.0</td>\n",
       "      <td>2.0</td>\n",
       "      <td>2.0</td>\n",
       "      <td>0.0</td>\n",
       "      <td>NaN</td>\n",
       "      <td>...</td>\n",
       "      <td>28.359538</td>\n",
       "      <td>NaN</td>\n",
       "      <td>NaN</td>\n",
       "      <td>1.0</td>\n",
       "      <td>ana</td>\n",
       "      <td>2022-12-31_00h59.07.521</td>\n",
       "      <td>MentalRot</td>\n",
       "      <td>2022.2.1</td>\n",
       "      <td>60.051692</td>\n",
       "      <td>NaN</td>\n",
       "    </tr>\n",
       "    <tr>\n",
       "      <th>4</th>\n",
       "      <td>0.0</td>\n",
       "      <td>90.0</td>\n",
       "      <td>y</td>\n",
       "      <td>m</td>\n",
       "      <td>90.0</td>\n",
       "      <td>0.0</td>\n",
       "      <td>3.0</td>\n",
       "      <td>3.0</td>\n",
       "      <td>5.0</td>\n",
       "      <td>NaN</td>\n",
       "      <td>...</td>\n",
       "      <td>29.493002</td>\n",
       "      <td>NaN</td>\n",
       "      <td>NaN</td>\n",
       "      <td>1.0</td>\n",
       "      <td>ana</td>\n",
       "      <td>2022-12-31_00h59.07.521</td>\n",
       "      <td>MentalRot</td>\n",
       "      <td>2022.2.1</td>\n",
       "      <td>60.051692</td>\n",
       "      <td>NaN</td>\n",
       "    </tr>\n",
       "  </tbody>\n",
       "</table>\n",
       "<p>5 rows × 38 columns</p>\n",
       "</div>"
      ],
      "text/plain": [
       "   leftori  rightori same corrAns  angle  trials.thisRepN  trials.thisTrialN  \\\n",
       "0      NaN       NaN  NaN     NaN    NaN              NaN                NaN   \n",
       "1      0.0     225.0    n       n  225.0              0.0                0.0   \n",
       "2      0.0     225.0    y       m  225.0              0.0                1.0   \n",
       "3      0.0       0.0    n       n    0.0              0.0                2.0   \n",
       "4      0.0      90.0    y       m   90.0              0.0                3.0   \n",
       "\n",
       "   trials.thisN  trials.thisIndex  instr_txt_1.started  ...  \\\n",
       "0           NaN               NaN            19.407198  ...   \n",
       "1           0.0              10.0                  NaN  ...   \n",
       "2           1.0              11.0                  NaN  ...   \n",
       "3           2.0               0.0                  NaN  ...   \n",
       "4           3.0               5.0                  NaN  ...   \n",
       "\n",
       "   mini_pause.stopped end_txt.started  end_key.started  session  participant  \\\n",
       "0                 NaN             NaN              NaN      1.0          ana   \n",
       "1           25.875416             NaN              NaN      1.0          ana   \n",
       "2           27.127254             NaN              NaN      1.0          ana   \n",
       "3           28.359538             NaN              NaN      1.0          ana   \n",
       "4           29.493002             NaN              NaN      1.0          ana   \n",
       "\n",
       "                      date    expName  psychopyVersion  frameRate  Unnamed: 37  \n",
       "0  2022-12-31_00h59.07.521  MentalRot         2022.2.1  60.051692          NaN  \n",
       "1  2022-12-31_00h59.07.521  MentalRot         2022.2.1  60.051692          NaN  \n",
       "2  2022-12-31_00h59.07.521  MentalRot         2022.2.1  60.051692          NaN  \n",
       "3  2022-12-31_00h59.07.521  MentalRot         2022.2.1  60.051692          NaN  \n",
       "4  2022-12-31_00h59.07.521  MentalRot         2022.2.1  60.051692          NaN  \n",
       "\n",
       "[5 rows x 38 columns]"
      ]
     },
     "execution_count": 6,
     "metadata": {},
     "output_type": "execute_result"
    }
   ],
   "source": [
    "data.head(5)"
   ]
  },
  {
   "cell_type": "code",
   "execution_count": 7,
   "id": "5618b746",
   "metadata": {},
   "outputs": [
    {
     "data": {
      "text/plain": [
       "array(['ana', nan, 'bia', 'cris', 'davi', 'edu', 'fabi', 'gabi', 'helô',\n",
       "       'iago', 'jack', 'kily', 'lela'], dtype=object)"
      ]
     },
     "execution_count": 7,
     "metadata": {},
     "output_type": "execute_result"
    }
   ],
   "source": [
    "data[\"participant\"].unique()"
   ]
  },
  {
   "cell_type": "code",
   "execution_count": 8,
   "id": "37bc860c",
   "metadata": {},
   "outputs": [
    {
     "data": {
      "text/plain": [
       "(1944, 5)"
      ]
     },
     "execution_count": 8,
     "metadata": {},
     "output_type": "execute_result"
    }
   ],
   "source": [
    "# gerando um banco de dados para as análises principais\n",
    "data2 = data[[\"participant\", \"same\", \"angle\", \"response.corr\", \"response.rt\"]]\n",
    "data2.shape"
   ]
  },
  {
   "cell_type": "code",
   "execution_count": 9,
   "id": "e7e7db1c",
   "metadata": {},
   "outputs": [
    {
     "data": {
      "text/html": [
       "<div>\n",
       "<style scoped>\n",
       "    .dataframe tbody tr th:only-of-type {\n",
       "        vertical-align: middle;\n",
       "    }\n",
       "\n",
       "    .dataframe tbody tr th {\n",
       "        vertical-align: top;\n",
       "    }\n",
       "\n",
       "    .dataframe thead th {\n",
       "        text-align: right;\n",
       "    }\n",
       "</style>\n",
       "<table border=\"1\" class=\"dataframe\">\n",
       "  <thead>\n",
       "    <tr style=\"text-align: right;\">\n",
       "      <th></th>\n",
       "      <th>participant</th>\n",
       "      <th>same</th>\n",
       "      <th>angle</th>\n",
       "      <th>response.corr</th>\n",
       "      <th>response.rt</th>\n",
       "    </tr>\n",
       "  </thead>\n",
       "  <tbody>\n",
       "    <tr>\n",
       "      <th>0</th>\n",
       "      <td>ana</td>\n",
       "      <td>NaN</td>\n",
       "      <td>NaN</td>\n",
       "      <td>NaN</td>\n",
       "      <td>NaN</td>\n",
       "    </tr>\n",
       "    <tr>\n",
       "      <th>1</th>\n",
       "      <td>ana</td>\n",
       "      <td>n</td>\n",
       "      <td>225.0</td>\n",
       "      <td>1.0</td>\n",
       "      <td>1.396049</td>\n",
       "    </tr>\n",
       "    <tr>\n",
       "      <th>2</th>\n",
       "      <td>ana</td>\n",
       "      <td>y</td>\n",
       "      <td>225.0</td>\n",
       "      <td>1.0</td>\n",
       "      <td>0.724670</td>\n",
       "    </tr>\n",
       "    <tr>\n",
       "      <th>3</th>\n",
       "      <td>ana</td>\n",
       "      <td>n</td>\n",
       "      <td>0.0</td>\n",
       "      <td>1.0</td>\n",
       "      <td>0.705989</td>\n",
       "    </tr>\n",
       "    <tr>\n",
       "      <th>4</th>\n",
       "      <td>ana</td>\n",
       "      <td>y</td>\n",
       "      <td>90.0</td>\n",
       "      <td>1.0</td>\n",
       "      <td>0.592835</td>\n",
       "    </tr>\n",
       "  </tbody>\n",
       "</table>\n",
       "</div>"
      ],
      "text/plain": [
       "  participant same  angle  response.corr  response.rt\n",
       "0         ana  NaN    NaN            NaN          NaN\n",
       "1         ana    n  225.0            1.0     1.396049\n",
       "2         ana    y  225.0            1.0     0.724670\n",
       "3         ana    n    0.0            1.0     0.705989\n",
       "4         ana    y   90.0            1.0     0.592835"
      ]
     },
     "execution_count": 9,
     "metadata": {},
     "output_type": "execute_result"
    }
   ],
   "source": [
    "data2.head(5)"
   ]
  },
  {
   "cell_type": "code",
   "execution_count": 10,
   "id": "8d9fe278",
   "metadata": {},
   "outputs": [
    {
     "data": {
      "text/plain": [
       "participant  same  angle\n",
       "ana          n     0.0      1.0\n",
       "                   45.0     0.9\n",
       "                   90.0     0.9\n",
       "                   135.0    0.9\n",
       "                   180.0    1.0\n",
       "                           ... \n",
       "lela         y     135.0    1.0\n",
       "                   180.0    0.9\n",
       "                   225.0    1.0\n",
       "                   270.0    1.0\n",
       "                   315.0    1.0\n",
       "Name: response.corr, Length: 192, dtype: float64"
      ]
     },
     "execution_count": 10,
     "metadata": {},
     "output_type": "execute_result"
    }
   ],
   "source": [
    "# desempenho por participante e pelas duas VIs\n",
    "data2.groupby(by = [\"participant\", \"same\", \"angle\"], dropna = True)[\"response.corr\"].mean()"
   ]
  },
  {
   "cell_type": "code",
   "execution_count": 11,
   "id": "21b66cc3",
   "metadata": {},
   "outputs": [
    {
     "data": {
      "text/plain": [
       "same  angle\n",
       "n     0.0      0.983333\n",
       "      45.0     0.983333\n",
       "      90.0     0.975000\n",
       "      135.0    0.975000\n",
       "      180.0    0.983333\n",
       "      225.0    0.991667\n",
       "      270.0    0.950000\n",
       "      315.0    0.975000\n",
       "y     0.0      0.991667\n",
       "      45.0     0.991667\n",
       "      90.0     0.975000\n",
       "      135.0    0.941667\n",
       "      180.0    0.950000\n",
       "      225.0    0.883333\n",
       "      270.0    0.866667\n",
       "      315.0    0.975000\n",
       "Name: response.corr, dtype: float64"
      ]
     },
     "execution_count": 11,
     "metadata": {},
     "output_type": "execute_result"
    }
   ],
   "source": [
    "# desempenho pelas duas VIs\n",
    "data2.groupby(by = [\"same\", \"angle\"], dropna = True)[\"response.corr\"].mean()"
   ]
  },
  {
   "cell_type": "code",
   "execution_count": 12,
   "id": "767e41de",
   "metadata": {},
   "outputs": [
    {
     "data": {
      "text/plain": [
       "(1847, 5)"
      ]
     },
     "execution_count": 12,
     "metadata": {},
     "output_type": "execute_result"
    }
   ],
   "source": [
    "# selecionando apenas respostas corretas\n",
    "data3_onlycorrect = data2[data2[\"response.corr\"] == 1.0] # seleciona só acertos\n",
    "data3_onlycorrect.shape"
   ]
  },
  {
   "cell_type": "code",
   "execution_count": 13,
   "id": "61b46d52",
   "metadata": {},
   "outputs": [
    {
     "data": {
      "text/plain": [
       "same  angle\n",
       "n     0.0      1.0\n",
       "      45.0     1.0\n",
       "      90.0     1.0\n",
       "      135.0    1.0\n",
       "      180.0    1.0\n",
       "      225.0    1.0\n",
       "      270.0    1.0\n",
       "      315.0    1.0\n",
       "y     0.0      1.0\n",
       "      45.0     1.0\n",
       "      90.0     1.0\n",
       "      135.0    1.0\n",
       "      180.0    1.0\n",
       "      225.0    1.0\n",
       "      270.0    1.0\n",
       "      315.0    1.0\n",
       "Name: response.corr, dtype: float64"
      ]
     },
     "execution_count": 13,
     "metadata": {},
     "output_type": "execute_result"
    }
   ],
   "source": [
    "# checa se selecionamos apenas respostas corretas\n",
    "data3_onlycorrect.groupby(by = [\"same\", \"angle\"], dropna = True)[\"response.corr\"].mean()"
   ]
  },
  {
   "cell_type": "code",
   "execution_count": 14,
   "id": "2cc3dd9e",
   "metadata": {},
   "outputs": [
    {
     "data": {
      "text/plain": [
       "participant  same  angle\n",
       "ana          n     0.0      0.624469\n",
       "                   45.0     0.596599\n",
       "                   90.0     0.661857\n",
       "                   135.0    0.730083\n",
       "                   180.0    0.964021\n",
       "                              ...   \n",
       "lela         y     135.0    0.553138\n",
       "                   180.0    0.679358\n",
       "                   225.0    0.565061\n",
       "                   270.0    0.601676\n",
       "                   315.0    0.536062\n",
       "Name: response.rt, Length: 192, dtype: float64"
      ]
     },
     "execution_count": 14,
     "metadata": {},
     "output_type": "execute_result"
    }
   ],
   "source": [
    "# tempo de reação por participante e pelas duas VIs\n",
    "data3_onlycorrect.groupby(by = [\"participant\", \"same\", \"angle\"], dropna = True)[\"response.rt\"].mean()"
   ]
  },
  {
   "cell_type": "code",
   "execution_count": 15,
   "id": "203d5fb6",
   "metadata": {},
   "outputs": [
    {
     "data": {
      "text/plain": [
       "same  angle\n",
       "n     0.0      0.569\n",
       "      45.0     0.582\n",
       "      90.0     0.667\n",
       "      135.0    0.688\n",
       "      180.0    0.750\n",
       "      225.0    0.719\n",
       "      270.0    0.665\n",
       "      315.0    0.580\n",
       "y     0.0      0.514\n",
       "      45.0     0.526\n",
       "      90.0     0.592\n",
       "      135.0    0.615\n",
       "      180.0    0.682\n",
       "      225.0    0.662\n",
       "      270.0    0.620\n",
       "      315.0    0.546\n",
       "Name: response.rt, dtype: float64"
      ]
     },
     "execution_count": 15,
     "metadata": {},
     "output_type": "execute_result"
    }
   ],
   "source": [
    "# tempo de reação pelas duas VIs\n",
    "data3_onlycorrect.groupby(by = [\"same\", \"angle\"], dropna = True)[\"response.rt\"].mean().round(3)"
   ]
  },
  {
   "cell_type": "code",
   "execution_count": 16,
   "id": "568a5f03",
   "metadata": {},
   "outputs": [],
   "source": [
    "# dividindo dados por condições # (1847, 5)\n",
    "same = data3_onlycorrect[data3_onlycorrect[\"same\"] == \"y\"]\n",
    "different = data3_onlycorrect[data3_onlycorrect[\"same\"] == \"n\"]"
   ]
  },
  {
   "cell_type": "code",
   "execution_count": 17,
   "id": "5e02d91e",
   "metadata": {},
   "outputs": [
    {
     "data": {
      "text/plain": [
       "(909, 5)"
      ]
     },
     "execution_count": 17,
     "metadata": {},
     "output_type": "execute_result"
    }
   ],
   "source": [
    "same.shape"
   ]
  },
  {
   "cell_type": "code",
   "execution_count": 18,
   "id": "b3faafe0",
   "metadata": {},
   "outputs": [
    {
     "data": {
      "text/plain": [
       "(938, 5)"
      ]
     },
     "execution_count": 18,
     "metadata": {},
     "output_type": "execute_result"
    }
   ],
   "source": [
    "different.shape"
   ]
  },
  {
   "cell_type": "code",
   "execution_count": 19,
   "id": "a6f641c6",
   "metadata": {},
   "outputs": [
    {
     "name": "stdout",
     "output_type": "stream",
     "text": [
      "angle\n",
      "0.0      0.513561\n",
      "45.0     0.525693\n",
      "90.0     0.592292\n",
      "135.0    0.614801\n",
      "180.0    0.681593\n",
      "225.0    0.662427\n",
      "270.0    0.619744\n",
      "315.0    0.545914\n",
      "Name: response.rt, dtype: float64\n",
      "angle\n",
      "0.0      0.568503\n",
      "45.0     0.582247\n",
      "90.0     0.666788\n",
      "135.0    0.688463\n",
      "180.0    0.749819\n",
      "225.0    0.718906\n",
      "270.0    0.664620\n",
      "315.0    0.580146\n",
      "Name: response.rt, dtype: float64\n"
     ]
    }
   ],
   "source": [
    "# calculando as médias das condições\n",
    "same_mean = same.groupby(by = [\"angle\"], dropna = True)[\"response.rt\"].mean()\n",
    "different_mean = different.groupby(by = [\"angle\"], dropna = True)[\"response.rt\"].mean()\n",
    "\n",
    "print(same_mean)\n",
    "print(different_mean)"
   ]
  },
  {
   "cell_type": "code",
   "execution_count": 20,
   "id": "e8d57690",
   "metadata": {},
   "outputs": [
    {
     "data": {
      "image/png": "[encoded data removed]",
      "text/plain": [
       "<Figure size 432x288 with 1 Axes>"
      ]
     },
     "metadata": {},
     "output_type": "display_data"
    }
   ],
   "source": [
    "# plotando os resultados em um gráfico\n",
    "plt.style.use(\"ggplot\")\n",
    "\n",
    "plt.rcParams.update({\"font.size\": 16})\n",
    "\n",
    "angles = list(range(0, 316, 45))\n",
    "\n",
    "plt.plot(angles, different_mean * 1000, color = \"darkblue\",\n",
    "         label = \"Different\", marker = \"s\", markersize = 10)\n",
    "plt.plot(angles, same_mean * 1000, color = \"red\",\n",
    "         label = \"Same\", marker = \"o\", markersize = 10)\n",
    "\n",
    "# Espaçamento das marcas dos eixos x e y\n",
    "plt.xticks(angles, fontsize = 12)\n",
    "plt.yticks(list(range(400, 1100, 100)), fontsize = 12)\n",
    "\n",
    "# Rótulos dos eixos x e y\n",
    "plt.xlabel(\"Angle (degrees)\", fontsize = 16, fontweight = \"bold\")\n",
    "plt.ylabel(\"Reaction Time (ms)\", fontsize = 16, fontweight = \"bold\")\n",
    "\n",
    "# Título do gráfico\n",
    "plt.title(\"Mental Rotation Task\", fontsize = 20, fontweight = \"bold\")\n",
    "\n",
    "# Legenda\n",
    "plt.legend(prop = {\"size\": 12}, loc = \"lower center\", ncol = 2, frameon = False)\n",
    "\n",
    "plt.savefig(\"Figura 1.jpg\", dpi = 600, bbox_inches = \"tight\")\n",
    "\n",
    "plt.show()"
   ]
  },
  {
   "cell_type": "code",
   "execution_count": 21,
   "id": "74e7a1e1",
   "metadata": {},
   "outputs": [
    {
     "data": {
      "image/png": "[encoded data removed]",
      "text/plain": [
       "<Figure size 432x288 with 1 Axes>"
      ]
     },
     "metadata": {},
     "output_type": "display_data"
    }
   ],
   "source": [
    "# plotando os resultados em um gráfico\n",
    "plt.style.use(\"ggplot\")\n",
    "\n",
    "plt.rcParams.update({\"font.size\": 16})\n",
    "\n",
    "angles = list(range(0, 316, 45))\n",
    "\n",
    "plt.plot(angles, different_mean * 1000, color = \"darkblue\",\n",
    "         label = \"Different\", marker = \"s\", markersize = 10)\n",
    "plt.plot(angles, same_mean * 1000, color = \"red\",\n",
    "         label = \"Same\", marker = \"o\", markersize = 10)\n",
    "\n",
    "# Espaçamento das marcas dos eixos x e y\n",
    "plt.xticks(angles, fontsize = 12)\n",
    "plt.yticks(list(range(0, 1100, 100)), fontsize = 12)\n",
    "\n",
    "# Rótulos dos eixos x e y\n",
    "plt.xlabel(\"Angle (degrees)\", fontsize = 16, fontweight = \"bold\")\n",
    "plt.ylabel(\"Reaction Time (ms)\", fontsize = 16, fontweight = \"bold\")\n",
    "\n",
    "# Título do gráfico\n",
    "plt.title(\"Mental Rotation Task\", fontsize = 20, fontweight = \"bold\")\n",
    "\n",
    "# Legenda\n",
    "plt.legend(prop = {\"size\": 12}, loc = \"lower center\", ncol = 2, frameon = False)\n",
    "\n",
    "plt.savefig(\"Figura 2.jpg\", dpi = 600, bbox_inches = \"tight\")\n",
    "\n",
    "plt.show()"
   ]
  },
  {
   "cell_type": "code",
   "execution_count": 22,
   "id": "9c0271ba",
   "metadata": {},
   "outputs": [
    {
     "data": {
      "image/png": "[encoded data removed]",
      "text/plain": [
       "<Figure size 432x288 with 1 Axes>"
      ]
     },
     "metadata": {},
     "output_type": "display_data"
    }
   ],
   "source": [
    "# plotando os resultados em um gráfico\n",
    "plt.style.use(\"ggplot\")\n",
    "\n",
    "plt.rcParams.update({\"font.size\": 16})\n",
    "\n",
    "angles = list(range(0, 316, 45))\n",
    "\n",
    "plt.plot(angles, different_mean * 1000, color = \"darkblue\",\n",
    "         label = \"Different\", marker = \"s\", markersize = 10)\n",
    "plt.plot(angles, same_mean * 1000, color = \"red\",\n",
    "         label = \"Same\", marker = \"o\", markersize = 10)\n",
    "\n",
    "# Espaçamento das marcas dos eixos x e y\n",
    "plt.xticks(angles, fontsize = 12)\n",
    "plt.yticks(list(range(400, 900, 100)), fontsize = 12)\n",
    "\n",
    "# Rótulos dos eixos x e y\n",
    "plt.xlabel(\"Angle (degrees)\", fontsize = 16, fontweight = \"bold\")\n",
    "plt.ylabel(\"Reaction Time (ms)\", fontsize = 16, fontweight = \"bold\")\n",
    "\n",
    "# Título do gráfico\n",
    "plt.title(\"Mental Rotation Task\", fontsize = 20, fontweight = \"bold\")\n",
    "\n",
    "# Legenda\n",
    "plt.legend(prop = {\"size\": 12}, loc = \"lower center\", ncol = 2, frameon = False)\n",
    "\n",
    "plt.savefig(\"Figura 3.jpg\", dpi = 600, bbox_inches = \"tight\")\n",
    "\n",
    "plt.show()"
   ]
  },
  {
   "cell_type": "code",
   "execution_count": 23,
   "id": "227ec0e8",
   "metadata": {},
   "outputs": [],
   "source": [
    "# Daqui para baixo, conteúdo não foi abordado no vídeo\n",
    "\n",
    "# Calculando os erros padrões das médias\n",
    "N = 12\n",
    "same_sem = same.groupby(by = [\"angle\"], dropna = True)[\"response.rt\"].std(ddof = 1) / np.sqrt(N)\n",
    "different_sem = different.groupby(by = [\"angle\"], dropna = True)[\"response.rt\"].std(ddof = 1) / np.sqrt(N)"
   ]
  },
  {
   "cell_type": "code",
   "execution_count": 24,
   "id": "248bb2fa",
   "metadata": {},
   "outputs": [
    {
     "data": {
      "image/png": "[encoded data removed]",
      "text/plain": [
       "<Figure size 432x288 with 1 Axes>"
      ]
     },
     "metadata": {},
     "output_type": "display_data"
    }
   ],
   "source": [
    "# Figura 01\n",
    "\n",
    "plt.style.use(\"ggplot\")\n",
    "\n",
    "plt.rcParams.update({'font.size': 16})\n",
    "\n",
    "\n",
    "(_, caps, _) = plt.errorbar(list(range(0, 316, 45)), different_mean * 1000, yerr = different_sem * 1000,\n",
    "             label = \"Different\", fmt ='o', ecolor = \"red\", capsize = 10)\n",
    "\n",
    "for cap in caps:\n",
    "    cap.set_markeredgewidth(1)\n",
    "\n",
    "\n",
    "(_, caps, _) = plt.errorbar(list(range(0, 316, 45)), same_mean * 1000, yerr = same_sem * 1000,\n",
    "             label = \"Same\", fmt ='s', ecolor = \"darkblue\", capsize = 10)\n",
    "\n",
    "for cap in caps:\n",
    "    cap.set_markeredgewidth(1)\n",
    "\n",
    "plt.xticks(list(range(0, 316, 45)), fontsize = 12)\n",
    "plt.yticks(list(range(400, 1100, 100)), fontsize = 12)\n",
    "plt.ylim(400, 1000)\n",
    "\n",
    "plt.xlabel(\"Angle (degrees)\", fontsize = 16, fontweight = \"bold\")\n",
    "plt.ylabel(\"Reaction Time (ms)\", fontsize = 16, fontweight = \"bold\")\n",
    "\n",
    "plt.title(\"Mental Rotation Task\", fontsize = 20, fontweight = \"bold\")\n",
    "\n",
    "plt.legend(prop = {'size': 15}, loc = \"lower center\", ncol = 2)\n",
    "\n",
    "plt.savefig(\"Figura 4.jpg\", dpi = 600, bbox_inches = \"tight\")\n",
    "\n",
    "plt.show()"
   ]
  },
  {
   "cell_type": "code",
   "execution_count": null,
   "id": "fa0fd6a3",
   "metadata": {},
   "outputs": [],
   "source": []
  }
 ],
 "metadata": {
  "kernelspec": {
   "display_name": "Python 3 (ipykernel)",
   "language": "python",
   "name": "python3"
  },
  "language_info": {
   "codemirror_mode": {
    "name": "ipython",
    "version": 3
   },
   "file_extension": ".py",
   "mimetype": "text/x-python",
   "name": "python",
   "nbconvert_exporter": "python",
   "pygments_lexer": "ipython3",
   "version": "3.9.12"
  }
 },
 "nbformat": 4,
 "nbformat_minor": 5
}
