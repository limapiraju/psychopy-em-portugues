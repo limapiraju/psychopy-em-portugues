{
 "cells": [
  {
   "cell_type": "code",
   "execution_count": 18,
   "id": "2e2728dd",
   "metadata": {},
   "outputs": [
    {
     "name": "stdout",
     "output_type": "stream",
     "text": [
      "Na condição fast rate, o ITI é de 0.2 s.\n"
     ]
    }
   ],
   "source": [
    "import random\n",
    "\n",
    "conditions = [\"slow rate\", \"fast rate\"]\n",
    "\n",
    "input_rate = {\"slow rate\": 1.7,# tentativa: 0.3 s + 1.7 s = 2.0 s\n",
    "              \"fast rate\": 0.2 # tentativa: 0.3 s + 0.2 s = 0.5 s\n",
    "             }\n",
    "\n",
    "cond = random.choice(conditions)\n",
    "\n",
    "my_iti = input_rate[cond]\n",
    "\n",
    "print(f\"Na condição {cond}, o ITI é de {my_iti} s.\")"
   ]
  },
  {
   "cell_type": "code",
   "execution_count": 8,
   "id": "ca800987",
   "metadata": {},
   "outputs": [
    {
     "data": {
      "text/plain": [
       "'fast rate'"
      ]
     },
     "execution_count": 8,
     "metadata": {},
     "output_type": "execute_result"
    }
   ],
   "source": []
  },
  {
   "cell_type": "code",
   "execution_count": null,
   "id": "5794b24b",
   "metadata": {},
   "outputs": [],
   "source": []
  }
 ],
 "metadata": {
  "kernelspec": {
   "display_name": "Python 3 (ipykernel)",
   "language": "python",
   "name": "python3"
  },
  "language_info": {
   "codemirror_mode": {
    "name": "ipython",
    "version": 3
   },
   "file_extension": ".py",
   "mimetype": "text/x-python",
   "name": "python",
   "nbconvert_exporter": "python",
   "pygments_lexer": "ipython3",
   "version": "3.9.12"
  }
 },
 "nbformat": 4,
 "nbformat_minor": 5
}
