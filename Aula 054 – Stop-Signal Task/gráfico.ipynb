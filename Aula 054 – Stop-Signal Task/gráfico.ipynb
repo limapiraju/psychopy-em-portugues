{
 "cells": [
  {
   "cell_type": "code",
   "execution_count": 15,
   "id": "bf9e9fd0",
   "metadata": {},
   "outputs": [
    {
     "data": {
      "image/png": "[encoded data removed]",
      "text/plain": [
       "<Figure size 432x288 with 1 Axes>"
      ]
     },
     "metadata": {
      "needs_background": "light"
     },
     "output_type": "display_data"
    }
   ],
   "source": [
    "import matplotlib.pyplot as plt\n",
    "\n",
    "# Dados\n",
    "soa = [0, 0.1, 0.2, 0.3, 0.4]\n",
    "performance = [61.9047619, 27.02702703, 7.692307692, 4.255319149, 1.612903226]\n",
    "\n",
    "# Criar gráfico\n",
    "fig, ax = plt.subplots(1, 1)\n",
    "\n",
    "# Plotar as barras\n",
    "bars = ax.bar(list(range(5)), performance, color=\"red\", edgecolor=\"black\")\n",
    "\n",
    "# Definir os ticks do eixo x\n",
    "ax.set_xticks(list(range(5)))\n",
    "ax.set_xticklabels(soa)\n",
    "\n",
    "# Definir o limite do eixo y\n",
    "ax.set_ylim(0, 100)\n",
    "\n",
    "ax.set_ylabel(\"Percentual Correto\", fontsize = 14, fontweight = \"bold\", color = \"black\")\n",
    "ax.set_xlabel(\"SOA\", fontsize = 14, fontweight = \"bold\", color = \"black\")\n",
    "\n",
    "# Remover as bordas (spines) no topo e à direita\n",
    "ax.spines['top'].set_visible(False)\n",
    "ax.spines['right'].set_visible(False)\n",
    "\n",
    "# Adicionar os valores das barras\n",
    "for bar, value in zip(bars, performance):\n",
    "    height = bar.get_height()\n",
    "    ax.text(bar.get_x() + bar.get_width() / 2, height + 3, f'{value:.1f}%',\n",
    "            color='black', fontweight='bold', ha='center', va='bottom')\n",
    "\n",
    "\n",
    "# Exibir o gráfico\n",
    "plt.show()\n"
   ]
  },
  {
   "cell_type": "code",
   "execution_count": null,
   "id": "43aaf098",
   "metadata": {},
   "outputs": [],
   "source": []
  }
 ],
 "metadata": {
  "kernelspec": {
   "display_name": "Python 3 (ipykernel)",
   "language": "python",
   "name": "python3"
  },
  "language_info": {
   "codemirror_mode": {
    "name": "ipython",
    "version": 3
   },
   "file_extension": ".py",
   "mimetype": "text/x-python",
   "name": "python",
   "nbconvert_exporter": "python",
   "pygments_lexer": "ipython3",
   "version": "3.9.12"
  }
 },
 "nbformat": 4,
 "nbformat_minor": 5
}
